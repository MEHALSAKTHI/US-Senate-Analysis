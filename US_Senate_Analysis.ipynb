{
  "cells": [
    {
      "cell_type": "markdown",
      "metadata": {
        "id": "view-in-github",
        "colab_type": "text"
      },
      "source": [
        "<a href=\"https://colab.research.google.com/github/MEHALSAKTHI/US-Senate-Analysis/blob/main/US_Senate_Analysis.ipynb\" target=\"_parent\"><img src=\"https://colab.research.google.com/assets/colab-badge.svg\" alt=\"Open In Colab\"/></a>"
      ]
    },
    {
      "cell_type": "code",
      "execution_count": null,
      "metadata": {
        "id": "dYC735tNHtTo"
      },
      "outputs": [],
      "source": [
        "import json                  \n",
        "\n",
        "from urllib.parse import urlencode\n",
        "\n",
        "import requests               \n",
        "from bs4 import BeautifulSoup \n",
        "\n",
        "import pandas as pd\n",
        "import re                     \n",
        "\n",
        "from datetime import datetime\n",
        "import seaborn as sns\n",
        "\n",
        "\n",
        "import matplotlib.pyplot as plt"
      ]
    },
    {
      "cell_type": "code",
      "execution_count": null,
      "metadata": {
        "id": "Dc7-9wDmHtTx"
      },
      "outputs": [],
      "source": [
        "data_url = 'https://www.senate.gov/legislative/LIS/roll_call_votes/vote1171/vote_117_1_00088.htm'"
      ]
    },
    {
      "cell_type": "code",
      "execution_count": null,
      "metadata": {
        "id": "N4m-tCHRHtTy"
      },
      "outputs": [],
      "source": [
        "response = requests.get(data_url)"
      ]
    },
    {
      "cell_type": "code",
      "execution_count": null,
      "metadata": {
        "id": "yiQEAjdVHtTy"
      },
      "outputs": [],
      "source": [
        "soup = BeautifulSoup(response.content,'html.parser')"
      ]
    },
    {
      "cell_type": "code",
      "execution_count": null,
      "metadata": {
        "id": "GQLJ0_3THtTz"
      },
      "outputs": [],
      "source": [
        "# Extract the data \n",
        "extract1 = soup.find('div',attrs={'class':'newspaperDisplay_3column'})\n",
        "extract2 = extract1.find_all('span',attrs={'class':'contenttext'})\n",
        "extract_final = [item.text for item in extract2]\n",
        "extract_final=extract_final[0].split('\\n')"
      ]
    },
    {
      "cell_type": "code",
      "execution_count": null,
      "metadata": {
        "colab": {
          "base_uri": "https://localhost:8080/",
          "height": 35
        },
        "id": "5FNA7WfoHtT0",
        "outputId": "9d1e415f-5f96-4dd3-cf6a-efff746732c6"
      },
      "outputs": [
        {
          "output_type": "execute_result",
          "data": {
            "text/plain": [
              "'Baldwin (D-WI), Nay'"
            ],
            "application/vnd.google.colaboratory.intrinsic+json": {
              "type": "string"
            }
          },
          "metadata": {},
          "execution_count": 6
        }
      ],
      "source": [
        "extract_final[0]"
      ]
    },
    {
      "cell_type": "code",
      "execution_count": null,
      "metadata": {
        "id": "RdPjlUNDHtT2"
      },
      "outputs": [],
      "source": [
        "\n",
        "df = pd.DataFrame(extract_final)\n",
        "df.columns = ['Names']\n",
        "df[['Names','Voted']]=df['Names'].str.split(',',expand=True)\n",
        "df['Voted']=df['Voted'].str.strip(' ')\n",
        "\n",
        "df = df.loc[:99,:]            \n",
        "df[['Names','Type']]=df['Names'].str.split('(',expand=True)\n",
        "df['Type']=df['Type'].str.rstrip(')')\n",
        "\n",
        "df[['Type','State']] = df['Type'].str.split('-',expand=True) \n",
        "\n"
      ]
    },
    {
      "cell_type": "code",
      "execution_count": null,
      "metadata": {
        "id": "VdZG53TtHtT3"
      },
      "outputs": [],
      "source": [
        "democrat_match = '^D'\n",
        "republicans_match = '^R'"
      ]
    },
    {
      "cell_type": "code",
      "execution_count": null,
      "metadata": {
        "colab": {
          "base_uri": "https://localhost:8080/"
        },
        "id": "Z7fh2OrWHtT4",
        "outputId": "1d4a272e-1af4-4132-b383-d2a2a0e240cc"
      },
      "outputs": [
        {
          "output_type": "execute_result",
          "data": {
            "text/plain": [
              "Nay    48\n",
              "Name: Voted, dtype: int64"
            ]
          },
          "metadata": {},
          "execution_count": 9
        }
      ],
      "source": [
        "\n",
        "q1_df =df[df['Type'].str.match(pat=democrat_match)]\n",
        "q1_df['Voted'].value_counts()\n"
      ]
    },
    {
      "cell_type": "code",
      "execution_count": null,
      "metadata": {
        "colab": {
          "base_uri": "https://localhost:8080/"
        },
        "id": "D2IKQj-bHtT5",
        "outputId": "7043172f-c15f-4588-942e-085871492ddf"
      },
      "outputs": [
        {
          "output_type": "execute_result",
          "data": {
            "text/plain": [
              "Yea           47\n",
              "Not Voting     2\n",
              "Nay            1\n",
              "Name: Voted, dtype: int64"
            ]
          },
          "metadata": {},
          "execution_count": 10
        }
      ],
      "source": [
        "\n",
        "\n",
        "q2_df =df[df['Type'].str.match(pat=republicans_match)]\n",
        "q2_df['Voted'].value_counts()"
      ]
    },
    {
      "cell_type": "code",
      "execution_count": null,
      "metadata": {
        "colab": {
          "base_uri": "https://localhost:8080/"
        },
        "id": "p4WdvOxSHtT6",
        "outputId": "4c71c0fb-024e-4c96-c938-c1cd4a2df833"
      },
      "outputs": [
        {
          "output_type": "execute_result",
          "data": {
            "text/plain": [
              "Yea    6\n",
              "Nay    5\n",
              "Name: Voted, dtype: int64"
            ]
          },
          "metadata": {},
          "execution_count": 15
        }
      ],
      "source": [
        "\n",
        "# Q3 What's the total number of Yea votes from all senators whose name starts with \"B\"?\n",
        "\n",
        "names_B_match = '^B'\n",
        "q3_df =df[df['Names'].str.match(pat=names_B_match)]\n",
        "q3_df['Voted'].value_counts()"
      ]
    },
    {
      "cell_type": "code",
      "execution_count": null,
      "metadata": {
        "colab": {
          "base_uri": "https://localhost:8080/"
        },
        "id": "GU_QVaSAHtT8",
        "outputId": "7860a6ca-b929-4037-e509-7e34f214a769"
      },
      "outputs": [
        {
          "output_type": "stream",
          "name": "stdout",
          "text": [
            "21\n"
          ]
        }
      ],
      "source": [
        "#Q4 How many states voted all Yay?\n",
        "q4_dict = df.groupby('State')['Voted'].apply(set).to_dict() # group by states as key and Voted as values\n",
        "# print(q4_dict)\n",
        "\n",
        "count =0 \n",
        "for key,value in q4_dict.items():\n",
        "    if 'Yea' in value and len(value)==1:\n",
        "        #print(key,value)                           # uncomment to see the states\n",
        "        count += 1\n",
        "print(count)"
      ]
    },
    {
      "cell_type": "code",
      "execution_count": null,
      "metadata": {
        "colab": {
          "base_uri": "https://localhost:8080/"
        },
        "id": "NUpFS5OWHtT-",
        "outputId": "13ce8b94-b3e0-4147-b8a5-63830d9aaf4b"
      },
      "outputs": [
        {
          "output_type": "execute_result",
          "data": {
            "text/plain": [
              "29"
            ]
          },
          "metadata": {},
          "execution_count": 17
        }
      ],
      "source": [
        "#Q5 How many states had at least 1 non-voting senator?\n",
        "q5_df = df[df['Voted']!='Yea']\n",
        "len(q5_df['State'].unique())\n",
        "\n"
      ]
    },
    {
      "cell_type": "code",
      "execution_count": null,
      "metadata": {
        "colab": {
          "base_uri": "https://localhost:8080/"
        },
        "id": "FH5D-E__HtT_",
        "outputId": "0163a4e6-40aa-482e-fd60-4989fef8bcaf"
      },
      "outputs": [
        {
          "output_type": "stream",
          "name": "stdout",
          "text": [
            "22\n"
          ]
        }
      ],
      "source": [
        "#Q6 How many states have both Republican senators?\n",
        "\n",
        "\n",
        "q6_dict = df.groupby('State')['Type'].apply(set).to_dict() # group by states as key and type as values\n",
        "# print(q6_dict)\n",
        "\n",
        "count =0 \n",
        "for key,value in q6_dict.items():\n",
        "    if 'R' in value and len(value)==1:\n",
        "        # print(key,value)                            uncomment to see the states\n",
        "        count += 1\n",
        "print(count)\n"
      ]
    },
    {
      "cell_type": "code",
      "execution_count": null,
      "metadata": {
        "colab": {
          "base_uri": "https://localhost:8080/"
        },
        "id": "h_ojkKYiHtUA",
        "outputId": "d20ce301-3cff-45fb-ce0e-4c0f880ee058"
      },
      "outputs": [
        {
          "output_type": "stream",
          "name": "stdout",
          "text": [
            "MT {'D', 'R'}\n",
            "OH {'D', 'R'}\n",
            "PA {'D', 'R'}\n",
            "WI {'D', 'R'}\n",
            "WV {'D', 'R'}\n",
            "5\n"
          ]
        }
      ],
      "source": [
        "#Q7 How many states have both Republican and Democrat senators?\n",
        "\n",
        "q7_dict = df.groupby('State')['Type'].apply(set).to_dict() # group by states as key and type as values\n",
        "# print(q7_dict)\n",
        "\n",
        "\n",
        "count =0 \n",
        "for key,value in q7_dict.items():\n",
        "    if 'R' in value and 'D' in value:\n",
        "        print(key,value)                         #uncomment to see the states\n",
        "        count += 1\n",
        "print(count)\n"
      ]
    },
    {
      "cell_type": "code",
      "execution_count": null,
      "metadata": {
        "colab": {
          "base_uri": "https://localhost:8080/"
        },
        "id": "GjBjgVFaHtUA",
        "outputId": "009f4be6-c370-47a4-eaa7-40eead8467ed"
      },
      "outputs": [
        {
          "output_type": "execute_result",
          "data": {
            "text/plain": [
              "6"
            ]
          },
          "metadata": {},
          "execution_count": 21
        }
      ],
      "source": [
        "#Q8 How many Senators have their names starting with W?\n",
        "names_W_match = '^W'\n",
        "q8_df =df[df['Names'].str.match(pat=names_W_match)]\n",
        "\n",
        "q8_df.shape[0]"
      ]
    },
    {
      "cell_type": "code",
      "execution_count": null,
      "metadata": {
        "colab": {
          "base_uri": "https://localhost:8080/"
        },
        "id": "lrcGQXD7HtUB",
        "outputId": "2fff2910-143a-4ffd-dc84-3b198f2efcfa"
      },
      "outputs": [
        {
          "output_type": "stream",
          "name": "stdout",
          "text": [
            "1.0212765957446808\n"
          ]
        }
      ],
      "source": [
        "#Q9 What is the votes ratio of Democrats' major decision to Republicans' major decision ?\n",
        "\n",
        "D_major_dict = df[df['Type']=='D']['Voted'].value_counts()\n",
        "R_major_dict = df[df['Type']=='R']['Voted'].value_counts()\n",
        "\n",
        "D_major=D_major_dict.values[0]   # get the major votes number\n",
        "R_major=R_major_dict.values[0]\n",
        "\n",
        "# Ratio\n",
        "print(D_major/R_major)"
      ]
    },
    {
      "cell_type": "code",
      "execution_count": null,
      "metadata": {
        "id": "CgE_HXTDHtUB"
      },
      "outputs": [],
      "source": [
        "#Q10 What is the highest absolute difference in percentage between yea and nay senators among the different parties\n",
        "\n"
      ]
    },
    {
      "cell_type": "code",
      "execution_count": null,
      "metadata": {
        "colab": {
          "base_uri": "https://localhost:8080/"
        },
        "id": "bB64OuXRHtUC",
        "outputId": "0837fb03-2cda-4a4c-aeb8-cd23dfb8dc33"
      },
      "outputs": [
        {
          "output_type": "execute_result",
          "data": {
            "text/plain": [
              "R    47\n",
              "Name: Type, dtype: int64"
            ]
          },
          "metadata": {},
          "execution_count": 29
        }
      ],
      "source": [
        "# Q11 How many Democrats voted Yea?\n",
        "\n",
        "q11_df = df[df['Voted']=='Yea']\n",
        "q11_df['Type'].value_counts()"
      ]
    },
    {
      "cell_type": "code",
      "execution_count": null,
      "metadata": {
        "colab": {
          "base_uri": "https://localhost:8080/"
        },
        "id": "Ns11A4SYHtUC",
        "outputId": "68b8dcde-54e0-4031-a223-7a1d373f55a4"
      },
      "outputs": [
        {
          "output_type": "stream",
          "name": "stdout",
          "text": [
            "22\n"
          ]
        }
      ],
      "source": [
        "#Q12 How many states voted all Nay?\n",
        "\n",
        "q12_dict = df.groupby('State')['Voted'].apply(set).to_dict() # group by states as key and Voted as values\n",
        "# print(q12_dict)\n",
        "\n",
        "count =0 \n",
        "for key,value in q12_dict.items():\n",
        "    if 'Nay' in value and len(value)==1:\n",
        "        # print(key,value)                            uncomment to see the states\n",
        "        count += 1\n",
        "print(count)"
      ]
    },
    {
      "cell_type": "code",
      "execution_count": null,
      "metadata": {
        "colab": {
          "base_uri": "https://localhost:8080/"
        },
        "id": "q4J10sM-HtUD",
        "outputId": "46a41620-0be3-4c60-fce5-427e194c6145"
      },
      "outputs": [
        {
          "output_type": "stream",
          "name": "stdout",
          "text": [
            "21\n"
          ]
        }
      ],
      "source": [
        "#Q13 How many states have both Democrat senators?\n",
        "\n",
        "q13_dict = df.groupby('State')['Type'].apply(set).to_dict() # group by states as key and type as values\n",
        "# print(q6_dict)\n",
        "\n",
        "count =0 \n",
        "for key,value in q13_dict.items():\n",
        "    if 'D' in value and len(value)==1:\n",
        "        # print(key,value)                            uncomment to see the states\n",
        "        count += 1\n",
        "print(count)\n"
      ]
    },
    {
      "cell_type": "code",
      "execution_count": null,
      "metadata": {
        "colab": {
          "base_uri": "https://localhost:8080/"
        },
        "id": "KH-82apHHtUE",
        "outputId": "4371aef4-ed11-4b4c-88aa-50816c9ecd29"
      },
      "outputs": [
        {
          "output_type": "execute_result",
          "data": {
            "text/plain": [
              "(51, 4)"
            ]
          },
          "metadata": {},
          "execution_count": 33
        }
      ],
      "source": [
        "#Q14 How many senators did not vote?\n",
        "\n",
        "q14_df = df[df['Voted']=='Nay']\n",
        "q14_df.shape"
      ]
    },
    {
      "cell_type": "code",
      "execution_count": null,
      "metadata": {
        "colab": {
          "base_uri": "https://localhost:8080/"
        },
        "id": "47Flx94LHtUE",
        "outputId": "8c20162e-9cab-4421-aa34-8f9d11dbb51b"
      },
      "outputs": [
        {
          "output_type": "stream",
          "name": "stdout",
          "text": [
            "29\n"
          ]
        }
      ],
      "source": [
        "#Q15 How many states had at least 1 senator not voted?\n",
        "\n",
        "q15_dict = df.groupby('State')['Voted'].apply(set).to_dict() # group by states as key and Voted as values\n",
        "# print(q12_dict)\n",
        "\n",
        "count =0 \n",
        "for key,value in q15_dict.items():\n",
        "    if 'Nay' in value :\n",
        "        # print(key,value)                            uncomment to see the states\n",
        "        count += 1\n",
        "print(count)"
      ]
    },
    {
      "cell_type": "code",
      "execution_count": null,
      "metadata": {
        "colab": {
          "base_uri": "https://localhost:8080/"
        },
        "id": "nwjWKwxfHtUE",
        "outputId": "213d4839-f7f1-458b-bb9d-f1a62d4895ed"
      },
      "outputs": [
        {
          "output_type": "stream",
          "name": "stdout",
          "text": [
            "25.0\n"
          ]
        }
      ],
      "source": [
        "#Q16 Ratio of number of rows to the number of columns in your dataset?\n",
        "\n",
        "q16_ratio = df.shape[0]/df.shape[1]\n",
        "print(q16_ratio)"
      ]
    },
    {
      "cell_type": "code",
      "execution_count": null,
      "metadata": {
        "colab": {
          "base_uri": "https://localhost:8080/",
          "height": 264
        },
        "id": "25ASXrCFHtUF",
        "outputId": "c0fb4940-3ebe-481b-c6ab-733017dacb17"
      },
      "outputs": [
        {
          "output_type": "display_data",
          "data": {
            "text/plain": [
              "<Figure size 432x288 with 1 Axes>"
            ],
            "image/png": "[encoded data removed]"
          },
          "metadata": {}
        }
      ],
      "source": [
        "#Q18 Pie chart of Republican votes ?\n",
        "\n",
        "q18_df = df[df['Type']=='R'][['Voted']]\n",
        "q18_df=q18_df.value_counts().rename_axis('Voted').to_frame('counts')\n",
        "q18_df.reset_index(inplace=True)\n",
        "\n",
        "# q18_df.loc[len(q18_df.index)] = ['Nea',0]             # For me it was required \n",
        "\n",
        "\n",
        "\n",
        "plt.pie(data=q18_df,x='counts',labels=q18_df['Voted'],autopct='%.0f%%')\n",
        "\n",
        "# plt.legend(['R:Republican','D:Democrats','RD:RepublicansDemocrats+Democrats'],loc = 'upper left')\n",
        "plt.legend()\n",
        "plt.title('Republican votes')\n",
        "plt.savefig(\"pie_chart1.png\",transparent = True,\n",
        "            facecolor =\"w\")\n",
        "\n",
        "\n"
      ]
    },
    {
      "cell_type": "code",
      "execution_count": null,
      "metadata": {
        "colab": {
          "base_uri": "https://localhost:8080/",
          "height": 279
        },
        "id": "gyN9tdZRHtUG",
        "outputId": "32d22b09-d2c5-4d4c-d8fe-8f0f83d210f9"
      },
      "outputs": [
        {
          "output_type": "display_data",
          "data": {
            "text/plain": [
              "<Figure size 432x288 with 2 Axes>"
            ],
            "image/png": "[encoded data removed]"
          },
          "metadata": {
            "needs_background": "light"
          }
        }
      ],
      "source": [
        "#Q19  Plot the crosstab of Party and Yea/Nay as a heat map with the values\n",
        "\n",
        "\n",
        "pivot1 = df.pivot_table(df,index='Type',columns='Voted',aggfunc='size')\n",
        "\n",
        "# Uncomment below if you don't have any 'Nay' Values in your data\n",
        "# pivot1['Nay'] = 0 \n",
        "\n",
        "heatmap = sns.heatmap(pivot1,cmap=\"RdYlGn\",annot=True)\n",
        "plt.xlabel(\"Voted\")\n",
        "plt.savefig(\"crosstab_heatmap.png\",transparent = True,\n",
        "            facecolor =\"w\")\n",
        "plt.show()"
      ]
    },
    {
      "cell_type": "code",
      "execution_count": null,
      "metadata": {
        "colab": {
          "base_uri": "https://localhost:8080/",
          "height": 264
        },
        "id": "USPnNxaoHtUG",
        "outputId": "b42a5ba6-5d24-49d8-8cf3-e79517776bf5"
      },
      "outputs": [
        {
          "output_type": "display_data",
          "data": {
            "text/plain": [
              "<Figure size 432x288 with 1 Axes>"
            ],
            "image/png": "[encoded data removed]"
          },
          "metadata": {}
        }
      ],
      "source": [
        "#Q20\n",
        "q20_dict = df.groupby('State')['Type'].apply(set).to_dict() # group by states as key and type as values\n",
        "# print(q7_dict)\n",
        "\n",
        "\n",
        "r_count = 0\n",
        "d_count = 0 \n",
        "rd_count = 0\n",
        "for key,value in q7_dict.items():\n",
        "    if 'R' in value and 'D' in value:\n",
        "        # print(key,value)                         #uncomment to see the states\n",
        "        rd_count += 1\n",
        "    elif 'R' in value and len(value)==1:\n",
        "        r_count += 1\n",
        "    elif 'D' in value and len(value)==1:\n",
        "        d_count += 1\n",
        "\n",
        "\n",
        "# print(r_count,d_count,rd_count)\n",
        "q20_df = pd.DataFrame({'Parties':['R','D','RD'], 'Count of States':[r_count,d_count,rd_count]})\n",
        "\n",
        "\n",
        "\n",
        "# plotting\n",
        "plt.pie(data=q20_df,x='Count of States',labels=q20_df['Parties'],autopct='%.0f%%')\n",
        "\n",
        "# If you want numbers instead of % \n",
        "# plt.pie(data=q20_df,x='Count of States',labels=q20_df['Parties'],autopct=lambda p: '{:.0f}'.format(p * q20_df['Count of States'].sum() / 100))\n",
        "\n",
        "plt.title('Party Domination State-wise')\n",
        "plt.savefig(\"pie_chart2.png\",transparent = True,\n",
        "            facecolor =\"w\")\n",
        "\n"
      ]
    }
  ],
  "metadata": {
    "kernelspec": {
      "display_name": "Python 3.8.10 ('.venv': venv)",
      "language": "python",
      "name": "python3"
    },
    "language_info": {
      "codemirror_mode": {
        "name": "ipython",
        "version": 3
      },
      "file_extension": ".py",
      "mimetype": "text/x-python",
      "name": "python",
      "nbconvert_exporter": "python",
      "pygments_lexer": "ipython3",
      "version": "3.8.10"
    },
    "orig_nbformat": 4,
    "vscode": {
      "interpreter": {
        "hash": "8461fc206bf63546d54d267c3757867fa753f41c3aeb4574e4b597d5729c1f45"
      }
    },
    "colab": {
      "name": "US Senate Analysis.ipynb",
      "provenance": [],
      "include_colab_link": true
    }
  },
  "nbformat": 4,
  "nbformat_minor": 0
}